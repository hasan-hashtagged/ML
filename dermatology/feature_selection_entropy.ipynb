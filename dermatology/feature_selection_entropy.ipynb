{
 "cells": [
  {
   "cell_type": "code",
   "execution_count": 1,
   "metadata": {},
   "outputs": [],
   "source": [
    "import numpy as np\n",
    "from sklearn import feature_selection\n",
    "from info_gain import info_gain\n",
    "from sklearn.impute import SimpleImputer"
   ]
  },
  {
   "cell_type": "code",
   "execution_count": 2,
   "metadata": {},
   "outputs": [],
   "source": [
    "attr,label=[],[]\n",
    "with open('dermatology.data') as fptr:\n",
    "    reader=fptr.readlines()\n",
    "    for line in reader:\n",
    "        label.append(int(line.split(',')[-1]))\n",
    "        attr_vector=line.split(',')[:-1]\n",
    "        for i in range(len(attr_vector)):\n",
    "            if attr_vector[i]=='?':\n",
    "                attr_vector[i]=np.nan\n",
    "            else:\n",
    "                attr_vector[i]=int(attr_vector[i])\n",
    "        attr.append(attr_vector)\n",
    "X=np.array(attr)\n",
    "Y=np.array(label)"
   ]
  },
  {
   "cell_type": "code",
   "execution_count": 3,
   "metadata": {},
   "outputs": [],
   "source": [
    "imp=SimpleImputer(missing_values=np.nan,strategy='mean')\n",
    "attr_clean=imp.fit_transform(X)"
   ]
  },
  {
   "cell_type": "code",
   "execution_count": 4,
   "metadata": {},
   "outputs": [
    {
     "data": {
      "text/plain": [
       "34"
      ]
     },
     "execution_count": 4,
     "metadata": {},
     "output_type": "execute_result"
    }
   ],
   "source": [
    "attr_clean.shape[1]"
   ]
  },
  {
   "cell_type": "code",
   "execution_count": 5,
   "metadata": {},
   "outputs": [
    {
     "name": "stdout",
     "output_type": "stream",
     "text": [
      "[0.09763610102883069, 0.18713935971898, 0.24928340136482396, 0.20367213868734546, 0.28007667857756713, 0.45000336365395255, 0.20843345694003115, 0.42638907260682873, 0.40912566037654574, 0.34530814524756825, 0.11006277612991511, 0.46307031512825697, 0.06649874884045065, 0.31191356321955366, 0.3982561120856498, 0.42993366081060824, 0.08829202544555448, 0.09153301172896633, 0.21557469181756983, 0.5504496443130529, 0.598273986954241, 0.5465785963492207, 0.19472070098957273, 0.3174185253604529, 0.4608651283610812, 0.25932969291012486, 0.4749940549560267, 0.4190768191339135, 0.4756498078050241, 0.18183075724878628, 0.21058567791879762, 0.06465720723107449, 0.48641766374071543, 0.5094988250126851]\n"
     ]
    }
   ],
   "source": [
    "ig=[]\n",
    "for i in range(attr_clean.shape[1]):\n",
    "    ig.append(info_gain.info_gain(attr_clean[:,i],label))\n",
    "info=np.array(ig)\n",
    "print(ig)"
   ]
  },
  {
   "cell_type": "code",
   "execution_count": null,
   "metadata": {},
   "outputs": [],
   "source": []
  }
 ],
 "metadata": {
  "kernelspec": {
   "display_name": "Python 3",
   "language": "python",
   "name": "python3"
  },
  "language_info": {
   "codemirror_mode": {
    "name": "ipython",
    "version": 3
   },
   "file_extension": ".py",
   "mimetype": "text/x-python",
   "name": "python",
   "nbconvert_exporter": "python",
   "pygments_lexer": "ipython3",
   "version": "3.6.7"
  }
 },
 "nbformat": 4,
 "nbformat_minor": 2
}
