{
 "cells": [
  {
   "cell_type": "code",
   "execution_count": 1,
   "metadata": {},
   "outputs": [
    {
     "name": "stdout",
     "output_type": "stream",
     "text": [
      "[0 0 0 0 0 0 0 0 0 0 0 0 0 0 0 0 0 0 0 0 0 0 0 0 0 0 0 0 0 0 0 0 0 0 0 0 0\n",
      " 0 0 0 0 0 0 0 0 0 0 0 0 0 1 1 1 1 1 1 1 1 1 1 1 1 1 1 1 1 1 1 1 1 1 1 1 1\n",
      " 1 1 1 1 1 1 1 1 1 1 1 1 1 1 1 1 1 1 1 1 1 1 1 1 1 1]\n"
     ]
    }
   ],
   "source": [
    "import numpy as np\n",
    "from sklearn.svm import SVC\n",
    "y1=[0 for x in range(50)]\n",
    "y2=[1 for x in range(50)]\n",
    "Y=np.concatenate((y1,y2),axis=0)\n",
    "print(Y)"
   ]
  },
  {
   "cell_type": "code",
   "execution_count": 3,
   "metadata": {},
   "outputs": [
    {
     "name": "stdout",
     "output_type": "stream",
     "text": [
      "[[-0.77737523  1.85875277]\n",
      " [ 0.88260535 -0.81509691]\n",
      " [ 1.45725083  2.50185632]\n",
      " [-1.00629614  1.592228  ]\n",
      " [ 1.11305869  0.2499916 ]\n",
      " [ 1.79173477  2.47883765]\n",
      " [ 0.38035998  2.86695445]\n",
      " [ 1.55232384  0.91978542]\n",
      " [ 1.36326753  1.32745119]\n",
      " [-0.08395488  0.74089728]\n",
      " [ 2.7689057   0.02955481]\n",
      " [ 0.256938    1.53596833]\n",
      " [ 3.11051396  1.47250495]\n",
      " [-0.8695685   1.95487734]\n",
      " [ 1.29023274  2.51153957]\n",
      " [ 2.38967332  0.75214122]\n",
      " [ 0.7712411   0.81121901]\n",
      " [ 1.92513037  1.89290838]\n",
      " [-0.10981175  2.50393171]\n",
      " [ 0.38788259  0.17091297]\n",
      " [-1.67433193  3.42171335]\n",
      " [ 0.62920362  1.18965225]\n",
      " [ 4.43666608  0.96440212]\n",
      " [ 0.83000658  2.05898195]\n",
      " [-0.41920323  1.24100091]\n",
      " [ 1.48875811  1.4301846 ]\n",
      " [-0.30884663  2.8187242 ]\n",
      " [ 2.54778153  1.76034775]\n",
      " [ 1.29393145  1.60158225]\n",
      " [ 1.47042243  1.10341178]\n",
      " [ 1.11944395  1.26052018]\n",
      " [ 3.01012832  0.9211308 ]\n",
      " [ 0.91541509  0.26714003]\n",
      " [ 0.12517614  0.07872119]\n",
      " [ 2.0510209   1.56570722]\n",
      " [ 2.05326926  1.56560927]\n",
      " [ 0.99564216  0.17204465]\n",
      " [-0.92916065  0.85523292]\n",
      " [-0.38653892  0.50919945]\n",
      " [ 2.30893784  1.36404722]\n",
      " [ 1.88546834  0.45756505]\n",
      " [-0.09650373  0.20309223]\n",
      " [ 2.14018417  0.96272015]\n",
      " [ 1.63959758  0.9520044 ]\n",
      " [ 2.41319817 -0.82910605]\n",
      " [ 3.21123509  1.14694178]\n",
      " [ 1.35727205  0.94025421]\n",
      " [ 0.24973168  1.85922578]\n",
      " [ 2.06108373  3.05171992]\n",
      " [ 0.08104433  1.52655432]\n",
      " [ 5.34783302  3.96056412]\n",
      " [ 5.98211441  4.58754773]\n",
      " [ 4.49171831  5.17124233]\n",
      " [ 4.45954152  4.23772235]\n",
      " [ 4.38008629  3.01149226]\n",
      " [ 7.45945839  5.94575964]\n",
      " [ 4.6880649   5.2552536 ]\n",
      " [ 5.63443173  6.55757575]\n",
      " [ 4.8673648   4.31315766]\n",
      " [ 4.16641962  6.43267663]\n",
      " [ 6.5434867   5.63881958]\n",
      " [ 5.94724785  4.64095725]\n",
      " [ 5.21056315  4.35566346]\n",
      " [ 1.32663136  6.10753914]\n",
      " [ 4.3758332   5.11713976]\n",
      " [ 5.30873925  4.70518664]\n",
      " [ 3.99761121  5.45469033]\n",
      " [ 4.25076318  5.94284684]\n",
      " [ 3.9892279   4.16087807]\n",
      " [ 4.50624346  5.92057613]\n",
      " [ 4.9333639   4.8802364 ]\n",
      " [ 5.96550106  4.17386592]\n",
      " [ 4.39628395  6.69028888]\n",
      " [ 4.65701186  5.50564634]\n",
      " [ 7.03999486  4.60413716]\n",
      " [ 7.50186632  3.96358182]\n",
      " [ 5.39754242  5.21407324]\n",
      " [ 4.81639882  4.16685871]\n",
      " [ 5.78324548  4.60716761]\n",
      " [ 4.54899668  4.53032353]\n",
      " [ 5.04310598  4.504439  ]\n",
      " [ 4.89692148  7.21195364]\n",
      " [ 4.75131788  4.83673539]\n",
      " [ 5.76140606  5.04643047]\n",
      " [ 5.07797735  5.21973892]\n",
      " [ 5.90100114  6.16506139]\n",
      " [ 4.04249946  5.07057576]\n",
      " [ 5.71786645  4.48396789]\n",
      " [ 4.18169312  3.66809278]\n",
      " [ 3.88126401  6.64616003]\n",
      " [ 3.94441794  5.42578225]\n",
      " [ 5.88284098  5.01044563]\n",
      " [ 4.33251188  5.81216566]\n",
      " [ 5.31401908  4.9791535 ]\n",
      " [ 5.10785244  4.51094366]\n",
      " [ 3.87588041  4.33167803]\n",
      " [ 4.87561276  4.99338752]\n",
      " [ 5.48976759  5.45087461]\n",
      " [ 5.37079266  5.1602699 ]\n",
      " [ 4.21501084  5.36031927]]\n"
     ]
    }
   ],
   "source": [
    "a=[1,1]\n",
    "b=[5,5]\n",
    "c=np.random.randn(50,2)+a\n",
    "d=np.random.randn(50,2)+b\n",
    "X=np.concatenate((c,d),axis=0)\n",
    "print(X)"
   ]
  },
  {
   "cell_type": "code",
   "execution_count": 4,
   "metadata": {},
   "outputs": [
    {
     "data": {
      "text/plain": [
       "SVC(C=1.0, cache_size=200, class_weight=None, coef0=0.0,\n",
       "  decision_function_shape='ovr', degree=3, gamma='auto', kernel='rbf',\n",
       "  max_iter=-1, probability=False, random_state=None, shrinking=True,\n",
       "  tol=0.001, verbose=False)"
      ]
     },
     "execution_count": 4,
     "metadata": {},
     "output_type": "execute_result"
    }
   ],
   "source": [
    "clf=SVC(gamma='auto')\n",
    "clf.fit(X,Y)"
   ]
  },
  {
   "cell_type": "code",
   "execution_count": 5,
   "metadata": {},
   "outputs": [
    {
     "name": "stdout",
     "output_type": "stream",
     "text": [
      "[0]\n"
     ]
    }
   ],
   "source": [
    "print(clf.predict([[1,2]]))"
   ]
  },
  {
   "cell_type": "code",
   "execution_count": 6,
   "metadata": {},
   "outputs": [
    {
     "name": "stdout",
     "output_type": "stream",
     "text": [
      "[0]\n"
     ]
    }
   ],
   "source": [
    "print(clf.predict([[4,10]]))"
   ]
  },
  {
   "cell_type": "code",
   "execution_count": 7,
   "metadata": {},
   "outputs": [
    {
     "name": "stdout",
     "output_type": "stream",
     "text": [
      "[0]\n"
     ]
    }
   ],
   "source": [
    "print(clf.predict([[9,10]]))"
   ]
  },
  {
   "cell_type": "code",
   "execution_count": 8,
   "metadata": {},
   "outputs": [
    {
     "name": "stdout",
     "output_type": "stream",
     "text": [
      "[1]\n"
     ]
    }
   ],
   "source": [
    "print(clf.predict([[5,5]]))"
   ]
  },
  {
   "cell_type": "code",
   "execution_count": 11,
   "metadata": {},
   "outputs": [
    {
     "data": {
      "image/png": "[encoded data removed]",
      "text/plain": [
       "<Figure size 432x288 with 1 Axes>"
      ]
     },
     "metadata": {
      "needs_background": "light"
     },
     "output_type": "display_data"
    }
   ],
   "source": [
    "from matplotlib import pyplot as plt\n",
    "plt.scatter(X[:,0],X[:,1],s=5)\n",
    "plt.show()"
   ]
  },
  {
   "cell_type": "code",
   "execution_count": 12,
   "metadata": {},
   "outputs": [],
   "source": [
    "plt.show()"
   ]
  },
  {
   "cell_type": "code",
   "execution_count": 13,
   "metadata": {},
   "outputs": [
    {
     "name": "stdout",
     "output_type": "stream",
     "text": [
      "[1]\n"
     ]
    }
   ],
   "source": [
    "print(clf.predict([[7,7]]))"
   ]
  },
  {
   "cell_type": "code",
   "execution_count": null,
   "metadata": {},
   "outputs": [],
   "source": []
  }
 ],
 "metadata": {
  "kernelspec": {
   "display_name": "Python 3",
   "language": "python",
   "name": "python3"
  },
  "language_info": {
   "codemirror_mode": {
    "name": "ipython",
    "version": 3
   },
   "file_extension": ".py",
   "mimetype": "text/x-python",
   "name": "python",
   "nbconvert_exporter": "python",
   "pygments_lexer": "ipython3",
   "version": "3.6.7"
  }
 },
 "nbformat": 4,
 "nbformat_minor": 2
}
