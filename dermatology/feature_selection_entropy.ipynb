{
 "cells": [
  {
   "cell_type": "code",
   "execution_count": 1,
   "metadata": {},
   "outputs": [],
   "source": [
    "import numpy as np\n",
    "from sklearn import feature_selection\n",
    "from info_gain import info_gain\n",
    "from sklearn.impute import SimpleImputer"
   ]
  },
  {
   "cell_type": "code",
   "execution_count": 3,
   "metadata": {},
   "outputs": [],
   "source": [
    "attr,label=[],[]\n",
    "with open('dermatology.data') as fptr:\n",
    "    reader=fptr.readlines()\n",
    "    for line in reader:\n",
    "        label.append(int(line.split(',')[-1]))\n",
    "        attr_vector=line.split(',')[:-1]\n",
    "        for i in range(len(attr_vector)):\n",
    "            if attr_vector[i]=='?':\n",
    "                attr_vector[i]=np.nan\n",
    "            else:\n",
    "                attr_vector[i]=int(attr_vector[i])\n",
    "        attr.append(attr_vector)\n",
    "X=np.array(attr)\n",
    "Y=np.array(label)"
   ]
  },
  {
   "cell_type": "code",
   "execution_count": 4,
   "metadata": {},
   "outputs": [],
   "source": [
    "imp=SimpleImputer(missing_values=np.nan,strategy='mean')\n",
    "attr_clean=imp.fit_transform(X)"
   ]
  },
  {
   "cell_type": "code",
   "execution_count": null,
   "metadata": {},
   "outputs": [],
   "source": []
  }
 ],
 "metadata": {
  "kernelspec": {
   "display_name": "Python 3",
   "language": "python",
   "name": "python3"
  },
  "language_info": {
   "codemirror_mode": {
    "name": "ipython",
    "version": 3
   },
   "file_extension": ".py",
   "mimetype": "text/x-python",
   "name": "python",
   "nbconvert_exporter": "python",
   "pygments_lexer": "ipython3",
   "version": "3.6.7"
  }
 },
 "nbformat": 4,
 "nbformat_minor": 2
}
