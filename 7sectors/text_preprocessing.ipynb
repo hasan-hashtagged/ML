{
 "cells": [
  {
   "cell_type": "code",
   "execution_count": 23,
   "metadata": {},
   "outputs": [],
   "source": [
    "import nltk\n",
    "import inflect\n",
    "from bs4 import BeautifulSoup\n",
    "import re,string,unicodedata"
   ]
  },
  {
   "cell_type": "code",
   "execution_count": 24,
   "metadata": {},
   "outputs": [
    {
     "name": "stdout",
     "output_type": "stream",
     "text": [
      "Enter the name of HTML file: test2.html\n",
      "Server: Microsoft-IIS/3.0\n",
      "Date: Thu, 20 Nov 1997 21:00:01 GMT\n",
      "Content-Type: text/html\n",
      "Accept-Ranges: bytes\n",
      "Last-Modified: Fri, 14 Nov 1997 16:45:45 GMT\n",
      "Content-Length: 3121\n",
      "\n",
      "<html>\n",
      "<head>\n",
      "\t<title>Contact Mobile Mini Sales</title>\n",
      "\t\n",
      "</head>\n",
      "\n",
      "<body bgcolor=\"#ffffff\" background=\"images/newbkgd.jpg\" link=\"#0c437b\" \n",
      "alink=\"#0c437b\" vlink=\"#0c437b\">\n",
      "\n",
      "<map name=\"bar\">\n",
      "<area shape=\"rect\" href=\"contact.html\" coords=\"-14,331 115,388\">\n",
      "<area shape=\"rect\" href=\"telecomm.html\" coords=\"-12,276 108,332\">\n",
      "<area shape=\"rect\" href=\"dealer.html\" coords=\"-20,222 109,277\">\n",
      "<area shape=\"rect\" href=\"investor.html\" coords=\"-3,166 109,223\">\n",
      "<area shape=\"rect\" href=\"storage.html\" coords=\"-21,111 110,167\">\n",
      "<area shape=\"rect\" href=\"locations.html\" coords=\"-12,57 112,112\">\n",
      "<area shape=\"rect\" href=\"index.html\" coords=\"-2,1 109,58\">\n",
      "</map>\n",
      "\n",
      "<p><br>\n",
      "\n",
      "<table border=0 width=100%>\n",
      "\n",
      "\t<tr>\n",
      "\t\t<td width=131 valign=\"top\">\n",
      "\t\t\n",
      "\t\t<img src=\"images/space.gif\" height=2 width=131><br>\n",
      "\t\t<a href=\"index.html\"><img src=\"images/newbar.gif\" border=0 usemap=\"#bar\"></a>\n",
      "\t\t\n",
      "\t\t</td>\n",
      "\t\t\n",
      "\t\t<td valign=\"top\" width=90%>\n",
      "\t\t\n",
      "\t\t<!---------------------------------------------------------------------->\n",
      "\n",
      "\t\t<form method=POST action=\"http://dianna.fiestanet.com/dicgibin/wsendmail.exe\">\n",
      "\t\t\n",
      "\t\t<INPUT TYPE=\"hidden\" NAME=\"RCPT\" VALUE=\"mobilesales\">\n",
      "\t\t\n",
      "\t\t<INPUT TYPE=\"hidden\" NAME=\"subject\" VALUE=\"Contact Page at Storage\">\n",
      "\n",
      "\t\t<!---------------------------------------------------------------------->\n",
      "\t\t\n",
      "\t\t<img src=\"images/minilogo.jpg\" align=right><br clear=all><br>\n",
      "\t\t\n",
      "\t\t<img src=\"images/storagecontact.jpg\"><br><br>\n",
      "\t\t\n",
      "\t\t\n",
      "\t\tName:<br><INPUT NAME=\"name\" TYPE=\"text\" SIZE=\"45\"><br>\n",
      "\t\t\t\t\n",
      "\t\tE-mail:<br><INPUT NAME=\"em\" TYPE=\"text\" SIZE=\"45\"><br>\n",
      "\t\t\t\t\n",
      "\t\tAddress:<br><INPUT NAME=\"address\" TYPE=\"text\" SIZE=\"45\"> <BR>\n",
      "\t\t\n",
      "\t\tCity:<br><INPUT NAME=\"city\" TYPE=\"text\" SIZE=\"22\">\n",
      "\t\t\n",
      "\t\tState:<INPUT NAME=\"state\" TYPE=\"text\" SIZE=\"2\">\n",
      "\t\t\n",
      "\t\tZip:<INPUT NAME=\"zip\" TYPE=\"text\" SIZE=\"10\"> <BR>\n",
      "\t\t\n",
      "\t\tPhone:<br><INPUT NAME=\"phone\" TYPE=\"text\" SIZE=\"45\"> <BR>\n",
      "\t\t\n",
      "\t\tFax:<br><INPUT NAME=\"fax\" TYPE=\"text\" SIZE=\"45\"><BR>\n",
      "\t\t\n",
      "\t\tHow may we help you?<br>\n",
      "\t\t<select name=\"This customer needs:\">\n",
      "\t\t<option selected>Investment Information</option>\n",
      "\t\t<option>Information on Mobile Mini Products</option>\n",
      "\t\t<option>Information on Becoming a Dealer</option>\n",
      "\t\t<option>Information on Telestructures</option>\n",
      "\t\t<option>Information on Storage At My Location</option>\n",
      "\t\t<option>Information on Storage At Your Location</option>\n",
      "\t\t</select><br>\n",
      "\t\t\n",
      "\t\tContact by:<br>\n",
      "\t\t<select name=\"Please contact me via:\">\n",
      "\t\t<option selected>e-mail</option>\n",
      "\t\t<option>Telephone</option>\n",
      "\t\t<option>Mail</option>\n",
      "\t\t</select><br>\n",
      "\t\t\n",
      "\t\tPlease<br>\n",
      "\t\t<select name=\"Please \">\n",
      "\t\t<option selected>contact me the next convenient business day</option>\n",
      "\t\t<option>contact me at your discretion - just collecting information at this time\n",
      "\t\t</option>\n",
      "\t\t</select>\n",
      "\t\t\n",
      "\t\t<br><br>\n",
      "\t\t<INPUT NAME=\"E-mail contact submission\" TYPE=\"submit\" \n",
      "\t\tVALUE=\"SUBMIT\"><INPUT NAME=\"name\" \n",
      "\t\tTYPE=\"RESET\" VALUE=\"Reset\">\n",
      "\t\t</FORM>\n",
      "\t\t\n",
      "\t\t<br><br>\n",
      "\t\t\n",
      "\t\t\n",
      "\t\t<font size=-1>\n",
      "\t\t&#169; 1997 Mobile Mini, Inc.<br>\n",
      "\t\t\n",
      "\t\tHTML by <a href=\"http://www.hereweare.com\">hereweare.com</a></font><br>\n",
      "\t\t\n",
      "\t\t</td>\n",
      "\t\t\n",
      "\t</tr>\n",
      "\t\n",
      "</table>\n",
      "</body>\n",
      "</html>\n",
      "\n"
     ]
    }
   ],
   "source": [
    "filename=input(\"Enter the name of HTML file: \")\n",
    "fptr=open(filename)\n",
    "reader=fptr.read()\n",
    "print(reader)"
   ]
  },
  {
   "cell_type": "code",
   "execution_count": 26,
   "metadata": {},
   "outputs": [],
   "source": [
    "##REMOVING HTML Tags"
   ]
  },
  {
   "cell_type": "code",
   "execution_count": 27,
   "metadata": {},
   "outputs": [
    {
     "name": "stdout",
     "output_type": "stream",
     "text": [
      "Server: Microsoft-IIS/3.0\n",
      "Date: Thu, 20 Nov 1997 21:00:01 GMT\n",
      "Content-Type: text/html\n",
      "Accept-Ranges: bytes\n",
      "Last-Modified: Fri, 14 Nov 1997 16:45:45 GMT\n",
      "Content-Length: 3121\n",
      "\n",
      "\n",
      "\n",
      "Contact Mobile Mini Sales\n",
      "\n",
      "\n",
      "\n",
      "\n",
      "\n",
      "\n",
      "\n",
      "\n",
      "\n",
      "\n",
      "\n",
      "\n",
      "\n",
      "\n",
      "\n",
      "\n",
      "\n",
      "\n",
      "\n",
      "\n",
      "\n",
      "\n",
      "\n",
      "\n",
      "\n",
      "\n",
      "\t\t\n",
      "\t\t\n",
      "\t\tName:\n",
      "\t\t\t\t\n",
      "\t\tE-mail:\n",
      "\t\t\t\t\n",
      "\t\tAddress: \n",
      "\t\t\n",
      "\t\tCity:\n",
      "\t\t\n",
      "\t\tState:\n",
      "\t\t\n",
      "\t\tZip: \n",
      "\t\t\n",
      "\t\tPhone: \n",
      "\t\t\n",
      "\t\tFax:\n",
      "\t\t\n",
      "\t\tHow may we help you?\n",
      "\n",
      "Investment Information\n",
      "Information on Mobile Mini Products\n",
      "Information on Becoming a Dealer\n",
      "Information on Telestructures\n",
      "Information on Storage At My Location\n",
      "Information on Storage At Your Location\n",
      "\n",
      "\t\t\n",
      "\t\tContact by:\n",
      "\n",
      "e-mail\n",
      "Telephone\n",
      "Mail\n",
      "\n",
      "\t\t\n",
      "\t\tPlease\n",
      "\n",
      "contact me the next convenient business day\n",
      "contact me at your discretion - just collecting information at this time\n",
      "\t\t\n",
      "\n",
      "\n",
      "\n",
      "\n",
      "\n",
      "\n",
      "\t\t© 1997 Mobile Mini, Inc.\n",
      "\t\t\n",
      "\t\tHTML by hereweare.com\n",
      "\n",
      "\n",
      "\n",
      "\n",
      "\n",
      "\n"
     ]
    }
   ],
   "source": [
    "a=BeautifulSoup(reader,\"html.parser\")\n",
    "soup=a.get_text()\n",
    "print(soup)"
   ]
  },
  {
   "cell_type": "code",
   "execution_count": 28,
   "metadata": {},
   "outputs": [],
   "source": [
    "##Tokenizing data into words"
   ]
  },
  {
   "cell_type": "code",
   "execution_count": 29,
   "metadata": {},
   "outputs": [
    {
     "name": "stderr",
     "output_type": "stream",
     "text": [
      "[nltk_data] Downloading package punkt to /home/hasan/nltk_data...\n",
      "[nltk_data]   Package punkt is already up-to-date!\n"
     ]
    },
    {
     "data": {
      "text/plain": [
       "True"
      ]
     },
     "execution_count": 29,
     "metadata": {},
     "output_type": "execute_result"
    }
   ],
   "source": [
    "nltk.download('punkt')"
   ]
  },
  {
   "cell_type": "code",
   "execution_count": 30,
   "metadata": {},
   "outputs": [],
   "source": [
    "wordlist=nltk.word_tokenize(soup)"
   ]
  },
  {
   "cell_type": "code",
   "execution_count": 31,
   "metadata": {},
   "outputs": [
    {
     "name": "stdout",
     "output_type": "stream",
     "text": [
      "['Server', ':', 'Microsoft-IIS/3.0', 'Date', ':', 'Thu', ',', '20', 'Nov', '1997', '21:00:01', 'GMT', 'Content-Type', ':', 'text/html', 'Accept-Ranges', ':', 'bytes', 'Last-Modified', ':', 'Fri', ',', '14', 'Nov', '1997', '16:45:45', 'GMT', 'Content-Length', ':', '3121', 'Contact', 'Mobile', 'Mini', 'Sales', 'Name', ':', 'E-mail', ':', 'Address', ':', 'City', ':', 'State', ':', 'Zip', ':', 'Phone', ':', 'Fax', ':', 'How', 'may', 'we', 'help', 'you', '?', 'Investment', 'Information', 'Information', 'on', 'Mobile', 'Mini', 'Products', 'Information', 'on', 'Becoming', 'a', 'Dealer', 'Information', 'on', 'Telestructures', 'Information', 'on', 'Storage', 'At', 'My', 'Location', 'Information', 'on', 'Storage', 'At', 'Your', 'Location', 'Contact', 'by', ':', 'e-mail', 'Telephone', 'Mail', 'Please', 'contact', 'me', 'the', 'next', 'convenient', 'business', 'day', 'contact', 'me', 'at', 'your', 'discretion', '-', 'just', 'collecting', 'information', 'at', 'this', 'time', '©', '1997', 'Mobile', 'Mini', ',', 'Inc.', 'HTML', 'by', 'hereweare.com']\n"
     ]
    }
   ],
   "source": [
    "print(wordlist)"
   ]
  },
  {
   "cell_type": "code",
   "execution_count": 32,
   "metadata": {},
   "outputs": [],
   "source": [
    "#Normalizing data"
   ]
  },
  {
   "cell_type": "code",
   "execution_count": 33,
   "metadata": {},
   "outputs": [
    {
     "name": "stderr",
     "output_type": "stream",
     "text": [
      "[nltk_data] Downloading package stopwords to /home/hasan/nltk_data...\n",
      "[nltk_data]   Package stopwords is already up-to-date!\n"
     ]
    },
    {
     "data": {
      "text/plain": [
       "True"
      ]
     },
     "execution_count": 33,
     "metadata": {},
     "output_type": "execute_result"
    }
   ],
   "source": [
    "nltk.download('stopwords')"
   ]
  },
  {
   "cell_type": "code",
   "execution_count": 34,
   "metadata": {},
   "outputs": [],
   "source": [
    "##Removing Non-ASCII character"
   ]
  },
  {
   "cell_type": "code",
   "execution_count": 35,
   "metadata": {},
   "outputs": [],
   "source": [
    "words=[]\n",
    "for t in wordlist:\n",
    "    a=unicodedata.normalize('NFKD',t).encode('ascii','ignore').decode('utf-8','ignore')\n",
    "    words.append(a)"
   ]
  },
  {
   "cell_type": "code",
   "execution_count": 36,
   "metadata": {},
   "outputs": [
    {
     "name": "stdout",
     "output_type": "stream",
     "text": [
      "['Server', ':', 'Microsoft-IIS/3.0', 'Date', ':', 'Thu', ',', '20', 'Nov', '1997', '21:00:01', 'GMT', 'Content-Type', ':', 'text/html', 'Accept-Ranges', ':', 'bytes', 'Last-Modified', ':', 'Fri', ',', '14', 'Nov', '1997', '16:45:45', 'GMT', 'Content-Length', ':', '3121', 'Contact', 'Mobile', 'Mini', 'Sales', 'Name', ':', 'E-mail', ':', 'Address', ':', 'City', ':', 'State', ':', 'Zip', ':', 'Phone', ':', 'Fax', ':', 'How', 'may', 'we', 'help', 'you', '?', 'Investment', 'Information', 'Information', 'on', 'Mobile', 'Mini', 'Products', 'Information', 'on', 'Becoming', 'a', 'Dealer', 'Information', 'on', 'Telestructures', 'Information', 'on', 'Storage', 'At', 'My', 'Location', 'Information', 'on', 'Storage', 'At', 'Your', 'Location', 'Contact', 'by', ':', 'e-mail', 'Telephone', 'Mail', 'Please', 'contact', 'me', 'the', 'next', 'convenient', 'business', 'day', 'contact', 'me', 'at', 'your', 'discretion', '-', 'just', 'collecting', 'information', 'at', 'this', 'time', '', '1997', 'Mobile', 'Mini', ',', 'Inc.', 'HTML', 'by', 'hereweare.com']\n"
     ]
    }
   ],
   "source": [
    "print(words)"
   ]
  },
  {
   "cell_type": "code",
   "execution_count": 37,
   "metadata": {},
   "outputs": [],
   "source": [
    "##Converting Numbers to words"
   ]
  },
  {
   "cell_type": "code",
   "execution_count": 38,
   "metadata": {},
   "outputs": [
    {
     "name": "stdout",
     "output_type": "stream",
     "text": [
      "['Server', ':', 'Microsoft-IIS/3.0', 'Date', ':', 'Thu', ',', 'twenty', 'Nov', 'one thousand, nine hundred and ninety-seven', '21:00:01', 'GMT', 'Content-Type', ':', 'text/html', 'Accept-Ranges', ':', 'bytes', 'Last-Modified', ':', 'Fri', ',', 'fourteen', 'Nov', 'one thousand, nine hundred and ninety-seven', '16:45:45', 'GMT', 'Content-Length', ':', 'three thousand, one hundred and twenty-one', 'Contact', 'Mobile', 'Mini', 'Sales', 'Name', ':', 'E-mail', ':', 'Address', ':', 'City', ':', 'State', ':', 'Zip', ':', 'Phone', ':', 'Fax', ':', 'How', 'may', 'we', 'help', 'you', '?', 'Investment', 'Information', 'Information', 'on', 'Mobile', 'Mini', 'Products', 'Information', 'on', 'Becoming', 'a', 'Dealer', 'Information', 'on', 'Telestructures', 'Information', 'on', 'Storage', 'At', 'My', 'Location', 'Information', 'on', 'Storage', 'At', 'Your', 'Location', 'Contact', 'by', ':', 'e-mail', 'Telephone', 'Mail', 'Please', 'contact', 'me', 'the', 'next', 'convenient', 'business', 'day', 'contact', 'me', 'at', 'your', 'discretion', '-', 'just', 'collecting', 'information', 'at', 'this', 'time', '', 'one thousand, nine hundred and ninety-seven', 'Mobile', 'Mini', ',', 'Inc.', 'HTML', 'by', 'hereweare.com']\n"
     ]
    }
   ],
   "source": [
    "p=inflect.engine()\n",
    "text=[]\n",
    "for k in words:\n",
    "    if k.isdigit():\n",
    "        text.append(p.number_to_words(k))\n",
    "    else:\n",
    "        text.append(k)\n",
    "print(text)"
   ]
  },
  {
   "cell_type": "code",
   "execution_count": 39,
   "metadata": {},
   "outputs": [],
   "source": [
    "##REMOVING Punctuations"
   ]
  },
  {
   "cell_type": "code",
   "execution_count": 40,
   "metadata": {},
   "outputs": [
    {
     "name": "stdout",
     "output_type": "stream",
     "text": [
      "['Server', 'MicrosoftIIS30', 'Date', 'Thu', 'twenty', 'Nov', 'one thousand nine hundred and ninetyseven', '210001', 'GMT', 'ContentType', 'texthtml', 'AcceptRanges', 'bytes', 'LastModified', 'Fri', 'fourteen', 'Nov', 'one thousand nine hundred and ninetyseven', '164545', 'GMT', 'ContentLength', 'three thousand one hundred and twentyone', 'Contact', 'Mobile', 'Mini', 'Sales', 'Name', 'Email', 'Address', 'City', 'State', 'Zip', 'Phone', 'Fax', 'How', 'may', 'we', 'help', 'you', 'Investment', 'Information', 'Information', 'on', 'Mobile', 'Mini', 'Products', 'Information', 'on', 'Becoming', 'a', 'Dealer', 'Information', 'on', 'Telestructures', 'Information', 'on', 'Storage', 'At', 'My', 'Location', 'Information', 'on', 'Storage', 'At', 'Your', 'Location', 'Contact', 'by', 'email', 'Telephone', 'Mail', 'Please', 'contact', 'me', 'the', 'next', 'convenient', 'business', 'day', 'contact', 'me', 'at', 'your', 'discretion', 'just', 'collecting', 'information', 'at', 'this', 'time', 'one thousand nine hundred and ninetyseven', 'Mobile', 'Mini', 'Inc', 'HTML', 'by', 'herewearecom']\n"
     ]
    }
   ],
   "source": [
    "new_word=[]\n",
    "for i in text:\n",
    "    a=re.sub(r'[^\\w\\s]','',i)\n",
    "    if a!='':\n",
    "        new_word.append(a)\n",
    "print(new_word)"
   ]
  },
  {
   "cell_type": "code",
   "execution_count": 41,
   "metadata": {},
   "outputs": [],
   "source": [
    "##Removing StopWords eg 'a','an','the','in'"
   ]
  },
  {
   "cell_type": "code",
   "execution_count": 42,
   "metadata": {},
   "outputs": [
    {
     "name": "stdout",
     "output_type": "stream",
     "text": [
      "['Server', 'MicrosoftIIS30', 'Date', 'Thu', 'twenty', 'Nov', 'one thousand nine hundred and ninetyseven', '210001', 'GMT', 'ContentType', 'texthtml', 'AcceptRanges', 'bytes', 'LastModified', 'Fri', 'fourteen', 'Nov', 'one thousand nine hundred and ninetyseven', '164545', 'GMT', 'ContentLength', 'three thousand one hundred and twentyone', 'Contact', 'Mobile', 'Mini', 'Sales', 'Name', 'Email', 'Address', 'City', 'State', 'Zip', 'Phone', 'Fax', 'How', 'may', 'help', 'Investment', 'Information', 'Information', 'Mobile', 'Mini', 'Products', 'Information', 'Becoming', 'Dealer', 'Information', 'Telestructures', 'Information', 'Storage', 'At', 'My', 'Location', 'Information', 'Storage', 'At', 'Your', 'Location', 'Contact', 'email', 'Telephone', 'Mail', 'Please', 'contact', 'next', 'convenient', 'business', 'day', 'contact', 'discretion', 'collecting', 'information', 'time', 'one thousand nine hundred and ninetyseven', 'Mobile', 'Mini', 'Inc', 'HTML', 'herewearecom']\n"
     ]
    }
   ],
   "source": [
    "wordlist=[]\n",
    "from nltk.corpus import stopwords\n",
    "for i in new_word:\n",
    "    if i not in stopwords.words('english'):\n",
    "        wordlist.append(i)\n",
    "print(wordlist)"
   ]
  },
  {
   "cell_type": "code",
   "execution_count": 43,
   "metadata": {},
   "outputs": [
    {
     "name": "stdout",
     "output_type": "stream",
     "text": [
      "79\n"
     ]
    }
   ],
   "source": [
    "print(len(wordlist))"
   ]
  },
  {
   "cell_type": "code",
   "execution_count": null,
   "metadata": {},
   "outputs": [],
   "source": []
  }
 ],
 "metadata": {
  "kernelspec": {
   "display_name": "Python 3",
   "language": "python",
   "name": "python3"
  },
  "language_info": {
   "codemirror_mode": {
    "name": "ipython",
    "version": 3
   },
   "file_extension": ".py",
   "mimetype": "text/x-python",
   "name": "python",
   "nbconvert_exporter": "python",
   "pygments_lexer": "ipython3",
   "version": "3.6.7"
  }
 },
 "nbformat": 4,
 "nbformat_minor": 2
}
